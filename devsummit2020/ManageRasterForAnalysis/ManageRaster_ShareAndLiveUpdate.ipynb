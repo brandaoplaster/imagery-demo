{
 "cells": [
  {
   "cell_type": "markdown",
   "metadata": {},
   "source": [
    "# Demo 4: Live Update Image Service"
   ]
  },
  {
   "cell_type": "markdown",
   "metadata": {},
   "source": [
    "## Share mosaic dataset from Enterprise database to support Live Update"
   ]
  },
  {
   "cell_type": "code",
   "execution_count": 2,
   "metadata": {},
   "outputs": [],
   "source": [
    "import os\n",
    "import requests\n",
    "import getpass\n",
    "import json\n",
    "import arcpy"
   ]
  },
  {
   "cell_type": "markdown",
   "metadata": {},
   "source": [
    "## Generate admin token register Enterprise data store"
   ]
  },
  {
   "cell_type": "code",
   "execution_count": 4,
   "metadata": {},
   "outputs": [
    {
     "name": "stdout",
     "output_type": "stream",
     "text": [
      "Admin username: admin\n",
      "Admin password: ········\n"
     ]
    },
    {
     "name": "stderr",
     "output_type": "stream",
     "text": [
      "C:\\Program Files\\ArcGIS\\Pro\\bin\\Python\\envs\\arcgispro-py3\\Lib\\site-packages\\urllib3\\connectionpool.py:1004: InsecureRequestWarning: Unverified HTTPS request is being made to host 'valyria.esri.com'. Adding certificate verification is strongly advised. See: https://urllib3.readthedocs.io/en/latest/advanced-usage.html#ssl-warnings\n",
      "  InsecureRequestWarning,\n"
     ]
    },
    {
     "name": "stdout",
     "output_type": "stream",
     "text": [
      "https://valyria.esri.com/server/admin/data/registerItem\n",
      "z2X_YEwJJE8rl9cY8nABLiYCOQsJ45u1Niqhe0yG3dK3MXp2r7eNX8Q7aWBmyXYR7pSE54vbAhMjHEt8e28a8X1X1_qCa-OjZDqWMVQI1Cg_ByEyMXc3grBpMyfX4LNzvzKe4tbq01BGFbPZg2AYPfldN4muGQCIj5DL4ATgHuE.\n"
     ]
    },
    {
     "name": "stderr",
     "output_type": "stream",
     "text": [
      "C:\\Program Files\\ArcGIS\\Pro\\bin\\Python\\envs\\arcgispro-py3\\Lib\\site-packages\\urllib3\\connectionpool.py:1004: InsecureRequestWarning: Unverified HTTPS request is being made to host 'valyria.esri.com'. Adding certificate verification is strongly advised. See: https://urllib3.readthedocs.io/en/latest/advanced-usage.html#ssl-warnings\n",
      "  InsecureRequestWarning,\n"
     ]
    },
    {
     "name": "stdout",
     "output_type": "stream",
     "text": [
      "{\"success\":true,\"status\":\"success\"}\n"
     ]
    }
   ],
   "source": [
    "# Create portal token if Server is federated with ArcGIS Enterprise\n",
    "portal_sharing_url = \"https://valyria.esri.com/portal/sharing/rest\"\n",
    "\n",
    "# Use server admin URL if Server is a standalone ArcGIS Server\n",
    "server_url = \"https://valyria.esri.com/server\"\n",
    "server_admin_url = \"https://valyria.esri.com/server/admin\"\n",
    "\n",
    "username = input(\"Admin username: \")\n",
    "password = getpass.getpass(\"Admin password: \")\n",
    "\n",
    "\n",
    "# Generate publishing token (Federated Server)\n",
    "gentokenurl = portal_sharing_url + \"/generateToken\"\n",
    "params = {\"f\": \"json\", \"username\": username, \"password\": password, \"expiration\": \"20\", \"client\": \"referer\", \"referer\": server_url}\n",
    "\n",
    "r = requests.post(gentokenurl, data=params, verify=False)\n",
    "token = json.loads(r.text)[\"token\"]\n",
    "\n",
    "# Register Enterprise database data store\n",
    "server_regdatastore = server_admin_url + \"/data/registerItem\"\n",
    "print(server_regdatastore)\n",
    "print(token)\n",
    "\n",
    "fileshare = {\n",
    "  \"path\": \"/enterpriseDatabases/rdvmdb03_devsummit2020_1\",\n",
    "  \"type\": \"egdb\",\n",
    "  \"id\": \"d4bcdbb3-8352-4db1-a41b-83a34df0814d\",\n",
    "  \"totalRefCount\": 0,\n",
    "  \"info\": {\n",
    "    \"dataStoreConnectionType\": \"shared\",\n",
    "    \"isManaged\": False,\n",
    "    \"connectionString\": \"ENCRYPTED_PASSWORD=00022e68356230544f423642484e32657541574d4867436477513d3d2a00;SERVER=rdvmdb03;INSTANCE=sde:postgresql:rdvmdb03;DBCLIENT=postgresql;DB_CONNECTION_PROPERTIES=rdvmdb03;DATABASE=sde;USER=jie;VERSION=sde.DEFAULT;AUTHENTICATION_MODE=DBMS\"\n",
    "  }\n",
    "}\n",
    "\n",
    "params = {\"f\": \"json\", \"token\": token, \"item\": json.dumps(fileshare), \"referer\": server_url}\n",
    "r = requests.post(server_regdatastore, data=params, verify=False)\n",
    "\n",
    "print(r.text)"
   ]
  },
  {
   "cell_type": "code",
   "execution_count": 5,
   "metadata": {},
   "outputs": [],
   "source": [
    "# Define image service configuration\n",
    "isdef = {\n",
    " \"serviceName\": \"demo_sde_ndfd\",\n",
    " \"type\": \"ImageServer\",\n",
    " \"description\": \"\",\n",
    " \"capabilities\": \"Image, Catalog, Metadata, Mensuration\",\n",
    " \"provider\": \"ArcObjects11\",\n",
    " \"clusterName\": \"default\",\n",
    " \"minInstancesPerNode\": 0,\n",
    " \"maxInstancesPerNode\": 2,\n",
    " \"instancesPerContainer\": 1,\n",
    " \"maxWaitTime\": 60,\n",
    " \"maxStartupTime\": 300,\n",
    " \"maxIdleTime\": 1800,\n",
    " \"maxUsageTime\": 600,\n",
    " \"loadBalancing\": \"ROUND_ROBIN\",\n",
    " \"isolationLevel\": \"HIGH\",\n",
    " \"configuredState\": \"STARTED\",\n",
    " \"recycleInterval\": 24,\n",
    " \"recycleStartTime\": \"00:00\",\n",
    " \"keepAliveInterval\": -1,\n",
    " \"private\": False,\n",
    " \"isDefault\": False,\n",
    " \"maxUploadFileSize\": 0,\n",
    " \"allowedUploadFileTypes\": \"\",\n",
    " \"properties\": {\n",
    "  \"connectionString\": \"ENCRYPTED_PASSWORD=00022e68356230544f423642484e32657541574d4867436477513d3d2a00;SERVER=rdvmdb03;INSTANCE=sde:postgresql:rdvmdb03;DBCLIENT=postgresql;DB_CONNECTION_PROPERTIES=rdvmdb03;DATABASE=sde;USER=jie;VERSION=sde.DEFAULT;AUTHENTICATION_MODE=DBMS\",\n",
    "  \"raster\": \"ndfd_4days\",\n",
    "  \"cacheControlMaxAge\": \"43200\",\n",
    "  \"colormapToRGB\": \"false\",\n",
    "  \"defaultResamplingMethod\": \"1\",\n",
    " },\n",
    " \"extensions\": [],\n",
    " \"frameworkProperties\": {},\n",
    " \"datasets\": []\n",
    "}"
   ]
  },
  {
   "cell_type": "code",
   "execution_count": 6,
   "metadata": {},
   "outputs": [
    {
     "name": "stdout",
     "output_type": "stream",
     "text": [
      "https://valyria.esri.com/server/admin/services/createService\n",
      "z2X_YEwJJE8rl9cY8nABLiYCOQsJ45u1Niqhe0yG3dK3MXp2r7eNX8Q7aWBmyXYR7pSE54vbAhMjHEt8e28a8X1X1_qCa-OjZDqWMVQI1Cg_ByEyMXc3grBpMyfX4LNzvzKe4tbq01BGFbPZg2AYPfldN4muGQCIj5DL4ATgHuE.\n"
     ]
    },
    {
     "name": "stderr",
     "output_type": "stream",
     "text": [
      "C:\\Program Files\\ArcGIS\\Pro\\bin\\Python\\envs\\arcgispro-py3\\Lib\\site-packages\\urllib3\\connectionpool.py:1004: InsecureRequestWarning: Unverified HTTPS request is being made to host 'valyria.esri.com'. Adding certificate verification is strongly advised. See: https://urllib3.readthedocs.io/en/latest/advanced-usage.html#ssl-warnings\n",
      "  InsecureRequestWarning,\n"
     ]
    },
    {
     "name": "stdout",
     "output_type": "stream",
     "text": [
      "{\"status\":\"success\"}\n"
     ]
    }
   ],
   "source": [
    "server_createservice = server_admin_url + \"/services/createService\"\n",
    "print(server_createservice)\n",
    "print(token)\n",
    "\n",
    "params = {\"f\": \"json\", \"token\": token, \"service\": json.dumps(isdef), \"referer\": server_url}\n",
    "r = requests.post(server_createservice, data=params, verify=False)\n",
    "\n",
    "print(r.text)"
   ]
  },
  {
   "cell_type": "markdown",
   "metadata": {},
   "source": [
    "## Add new Raster to mosaic dataset without stopping service"
   ]
  },
  {
   "cell_type": "code",
   "execution_count": 7,
   "metadata": {},
   "outputs": [
    {
     "data": {
      "text/plain": [
       "<Result '\\\\\\\\valyria\\\\Z__DevSummit2020\\\\Demo\\\\ManageRaster\\\\rdvmdb03.sde\\\\sde.jie.ndfd_4days_1'>"
      ]
     },
     "execution_count": 7,
     "metadata": {},
     "output_type": "execute_result"
    }
   ],
   "source": [
    "mdpath = \"\\\\\\\\valyria\\\\Z__DevSummit2020\\\\Demo\\\\ManageRaster\\\\rdvmdb03.sde\\\\sde.jie.ndfd_4days\"\n",
    "\n",
    "# Remove the old records\n",
    "arcpy.management.RemoveRastersFromMosaicDataset(mdpath, \"stdtime < timestamp '2020-03-21 00:00:00'\")"
   ]
  },
  {
   "cell_type": "code",
   "execution_count": 8,
   "metadata": {},
   "outputs": [
    {
     "data": {
      "text/plain": [
       "<Result '\\\\\\\\valyria\\\\Z__DevSummit2020\\\\Demo\\\\ManageRaster\\\\rdvmdb03.sde\\\\sde.jie.ndfd_4days_1'>"
      ]
     },
     "execution_count": 8,
     "metadata": {},
     "output_type": "execute_result"
    }
   ],
   "source": [
    "# NDFD temporature forecast for the next 4 days from 3/19/20\n",
    "data = r\"\\\\valyria\\Z__DevSummit2020\\Demo\\ManageRaster\\ndfd\\ds.temp__031520.bin\"\n",
    "rastertype = \"GRIB\"\n",
    "# Note: auxillary input option allows configuration of raster type settings\n",
    "auxoption = \"Variable 'T@HTGL'\"\n",
    "\n",
    "# Add data to mosaic dataset, can either add single dataset or the entire folder. \n",
    "arcpy.management.AddRastersToMosaicDataset(mdpath, rastertype, data, aux_inputs=auxoption, estimate_statistics=\"ESTIMATE_STATISTICS\")"
   ]
  }
 ],
 "metadata": {
  "kernelspec": {
   "display_name": "ArcGISPro",
   "language": "Python",
   "name": "python3"
  },
  "language_info": {
   "file_extension": ".py",
   "name": "python",
   "version": "3"
  }
 },
 "nbformat": 4,
 "nbformat_minor": 2
}
