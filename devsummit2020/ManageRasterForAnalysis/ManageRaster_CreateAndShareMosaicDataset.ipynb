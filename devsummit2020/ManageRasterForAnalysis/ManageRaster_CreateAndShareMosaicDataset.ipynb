{
 "cells": [
  {
   "cell_type": "markdown",
   "metadata": {},
   "source": [
    "# Demo 2: Create Mosaic Dataset to Manage Raster Data"
   ]
  },
  {
   "cell_type": "code",
   "execution_count": 6,
   "metadata": {},
   "outputs": [],
   "source": [
    "import os\n",
    "import requests\n",
    "import getpass\n",
    "import json\n",
    "import arcpy"
   ]
  },
  {
   "cell_type": "markdown",
   "metadata": {},
   "source": [
    "## Create Mosaic Dataset in Geodatabase (File Geodatabase or Enterprise Geodatabase)"
   ]
  },
  {
   "cell_type": "code",
   "execution_count": 8,
   "metadata": {},
   "outputs": [],
   "source": [
    "# Option 1: Create File Geodatabase\n",
    "arcpy.env.overwriteOutput = 1\n",
    "demofolder = r\"\\\\valyria\\Z__DevSummit2020\\Demo\\ManageRaster\"\n",
    "mdgdb = \"mosaicdataset_1.gdb\"\n",
    "arcpy.management.CreateFileGDB(demofolder, mdgdb)\n",
    "\n",
    "# Create mosaic dataset\n",
    "demows = os.path.join(demofolder, mdgdb)\n",
    "mdname = \"ndfd_4days_1\"\n",
    "sr = \"4326\"\n",
    "# sr = \"4326\" # This is the EPSG code for the projection GCS_WGS_1984\n",
    "\n",
    "arcpy.management.CreateMosaicDataset(demows, mdname, sr)\n",
    "\n",
    "\n",
    "# # Option 2: Create Enterprise Database connection\n",
    "# connectname = \"rdvmdb03.sde\"\n",
    "# arcpy.CreateDatabaseConnection_management(demofolder,\n",
    "#                                           connectname,\n",
    "#                                           \"POSTGRESQL\",\n",
    "#                                           \"rdvmdb03.esri.com\",\n",
    "#                                           \"DATABASE_AUTH\",\n",
    "#                                           \"jie\",\n",
    "#                                           \"jie\",\n",
    "#                                           \"SAVE_USERNAME\",\n",
    "#                                           \"sde\")\n",
    "\n",
    "# # Create mosaic dataset\n",
    "# demows = os.path.join(demofolder, connectname)\n",
    "# mdname = \"ndfd_14days\"\n",
    "# sr = \"GCS_WGS_1984\"\n",
    "# # sr = \"4326\" # This is the EPSG code for the projection GCS_WGS_1984\n",
    "\n",
    "# arcpy.CreateMosaicDataset_management(demows, mdname, sr)\n",
    "\n",
    "mdpath = os.path.join(demows, mdname)"
   ]
  },
  {
   "cell_type": "markdown",
   "metadata": {},
   "source": [
    "## Add Raster data to mosaic dataset"
   ]
  },
  {
   "cell_type": "code",
   "execution_count": 9,
   "metadata": {},
   "outputs": [
    {
     "data": {
      "text/plain": [
       "<Result '\\\\\\\\valyria\\\\Z__DevSummit2020\\\\Demo\\\\ManageRaster\\\\mosaicdataset.gdb\\\\ndfd_4days'>"
      ]
     },
     "execution_count": 9,
     "metadata": {},
     "output_type": "execute_result"
    }
   ],
   "source": [
    "# NDFD temporature forecast for the next 4 days from 3/16/20\n",
    "data = r\"\\\\valyria\\Z__DevSummit2020\\Demo\\ManageRaster\\ndfd\\ds.temp__031220.bin\"\n",
    "rastertype = \"GRIB\"\n",
    "# Note: auxillary input option allows configuration of raster type settings\n",
    "auxoption = \"Variable 'T@HTGL'\"\n",
    "\n",
    "# Add data to mosaic dataset, can either add single dataset or the entire folder. \n",
    "arcpy.management.AddRastersToMosaicDataset(mdpath, rastertype, data, aux_inputs=auxoption, estimate_statistics=\"ESTIMATE_STATISTICS\")"
   ]
  },
  {
   "cell_type": "markdown",
   "metadata": {},
   "source": [
    "## Customize Mosaic Dataset Table data"
   ]
  },
  {
   "cell_type": "code",
   "execution_count": 11,
   "metadata": {},
   "outputs": [],
   "source": [
    "arcpy.management.BuildPyramidsandStatistics(mdpath, build_pyramids=\"NONE\", calculate_statistics=\"CALCULATE_STATISTICS\")\n",
    "\n",
    "# Mosaic dataset has a table view, also support custom operation on Table\n",
    "# e.g. Add a new field to the mosaic dataset table\n",
    "newfield = \"RegionAverage_F\"\n",
    "arcpy.management.AddField(mdpath, newfield, \"DOUBLE\")\n",
    "\n",
    "# Read individual raster item from the table using cursor\n",
    "rasfields = [\"OBJECTID\", \"Raster\"]\n",
    "with arcpy.da.SearchCursor(mdpath, rasfields) as rcursor:\n",
    "    with arcpy.da.UpdateCursor(mdpath, [newfield]) as cursor:\n",
    "        for row in cursor: \n",
    "            rrow = rcursor.next()\n",
    "            meantemp = float(arcpy.management.GetRasterProperties(rrow[1], \"MEAN\").getOutput(0))\n",
    "            row[0] = 1.8 * (meantemp - 273) + 32\n",
    "            cursor.updateRow(row)"
   ]
  },
  {
   "cell_type": "markdown",
   "metadata": {},
   "source": [
    "## Share Mosaic Dataset as Image Service"
   ]
  },
  {
   "cell_type": "code",
   "execution_count": 12,
   "metadata": {},
   "outputs": [
    {
     "name": "stdout",
     "output_type": "stream",
     "text": [
      "Admin username: admin\n",
      "Admin password: ········\n"
     ]
    },
    {
     "name": "stderr",
     "output_type": "stream",
     "text": [
      "C:\\Program Files\\ArcGIS\\Pro\\bin\\Python\\envs\\arcgispro-py3\\lib\\site-packages\\urllib3\\connectionpool.py:847: InsecureRequestWarning: Unverified HTTPS request is being made. Adding certificate verification is strongly advised. See: https://urllib3.readthedocs.io/en/latest/advanced-usage.html#ssl-warnings\n",
      "  InsecureRequestWarning)\n"
     ]
    }
   ],
   "source": [
    "# Create portal token if Server is federated with ArcGIS Enterprise\n",
    "portal_sharing_url = \"https://valyria.esri.com/portal/sharing/rest\"\n",
    "\n",
    "# Use server admin URL if Server is a standalone ArcGIS Server\n",
    "server_url = \"https://valyria.esri.com/server\"\n",
    "server_admin_url = \"https://valyria.esri.com/server/admin\"\n",
    "\n",
    "username = input(\"Admin username: \")\n",
    "password = getpass.getpass(\"Admin password: \")\n",
    "\n",
    "\n",
    "# Generate publishing token (Federated Server)\n",
    "gentokenurl = portal_sharing_url + \"/generateToken\"\n",
    "params = {\"f\": \"json\", \"username\": username, \"password\": password, \"expiration\": \"20\", \"client\": \"referer\", \"referer\": server_url}\n",
    "\n",
    "r = requests.post(gentokenurl, data=params, verify=False)\n",
    "token = json.loads(r.text)[\"token\"]\n"
   ]
  },
  {
   "cell_type": "code",
   "execution_count": 13,
   "metadata": {},
   "outputs": [],
   "source": [
    "isdef = {\n",
    " \"serviceName\": \"demo_ndfd\",\n",
    " \"type\": \"ImageServer\",\n",
    " \"description\": \"\",\n",
    " \"capabilities\": \"Image, Catalog, Metadata, Mensuration\",\n",
    " \"provider\": \"ArcObjects11\",\n",
    " \"clusterName\": \"default\",\n",
    " \"minInstancesPerNode\": 0,\n",
    " \"maxInstancesPerNode\": 2,\n",
    " \"instancesPerContainer\": 1,\n",
    " \"maxWaitTime\": 60,\n",
    " \"maxStartupTime\": 300,\n",
    " \"maxIdleTime\": 1800,\n",
    " \"maxUsageTime\": 600,\n",
    " \"loadBalancing\": \"ROUND_ROBIN\",\n",
    " \"isolationLevel\": \"HIGH\",\n",
    " \"configuredState\": \"STARTED\",\n",
    " \"recycleInterval\": 24,\n",
    " \"recycleStartTime\": \"00:00\",\n",
    " \"keepAliveInterval\": -1,\n",
    " \"private\": False,\n",
    " \"isDefault\": False,\n",
    " \"maxUploadFileSize\": 0,\n",
    " \"allowedUploadFileTypes\": \"\",\n",
    " \"properties\": {\n",
    "  \"path\": \"\\\\\\\\valyria\\\\Z__DevSummit2020\\\\Demo\\\\ManageRaster\\\\mosaicdataset.gdb\\\\ndfd_4days\",\n",
    "  \"cacheControlMaxAge\": \"43200\",\n",
    "  \"colormapToRGB\": \"false\",\n",
    "  \"defaultResamplingMethod\": \"1\",\n",
    " },\n",
    " \"extensions\": [],\n",
    " \"frameworkProperties\": {},\n",
    " \"datasets\": []\n",
    "}"
   ]
  },
  {
   "cell_type": "code",
   "execution_count": 14,
   "metadata": {},
   "outputs": [
    {
     "name": "stdout",
     "output_type": "stream",
     "text": [
      "https://valyria.esri.com/server/admin/services/createService\n",
      "w0bjrwngFQzektM62ld6jA0rfmOHvUGWmDikioEn580klfSJO49svEAqjieCcJE2p0k34OU1KBq0hE-ytxj9Nf7KrZ4q9uVp-dziSnoFoO4RozLnsk9DZDui_IwB2y0JfSVab-bgpRDZQ1EB_mIvfQ..\n"
     ]
    },
    {
     "name": "stderr",
     "output_type": "stream",
     "text": [
      "C:\\Program Files\\ArcGIS\\Pro\\bin\\Python\\envs\\arcgispro-py3\\lib\\site-packages\\urllib3\\connectionpool.py:847: InsecureRequestWarning: Unverified HTTPS request is being made. Adding certificate verification is strongly advised. See: https://urllib3.readthedocs.io/en/latest/advanced-usage.html#ssl-warnings\n",
      "  InsecureRequestWarning)\n"
     ]
    },
    {
     "name": "stdout",
     "output_type": "stream",
     "text": [
      "{\"status\":\"success\"}\n"
     ]
    }
   ],
   "source": [
    "server_createservice = server_admin_url + \"/services/createService\"\n",
    "print(server_createservice)\n",
    "print(token)\n",
    "\n",
    "params = {\"f\": \"json\", \"token\": token, \"service\": json.dumps(isdef), \"referer\": server_url}\n",
    "r = requests.post(server_createservice, data=params, verify=False)\n",
    "\n",
    "print(r.text)"
   ]
  }
 ],
 "metadata": {
  "kernelspec": {
   "display_name": "ArcGISPro",
   "language": "Python",
   "name": "python3"
  },
  "language_info": {
   "file_extension": ".py",
   "name": "python",
   "version": "3"
  }
 },
 "nbformat": 4,
 "nbformat_minor": 2
}
