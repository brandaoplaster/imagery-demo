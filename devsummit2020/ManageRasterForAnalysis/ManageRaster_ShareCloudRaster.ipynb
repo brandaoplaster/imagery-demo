{
 "cells": [
  {
   "cell_type": "markdown",
   "metadata": {},
   "source": [
    "# Demo 3: Manage and Share Cloud Raster"
   ]
  },
  {
   "cell_type": "code",
   "execution_count": 10,
   "metadata": {},
   "outputs": [],
   "source": [
    "import os\n",
    "import requests\n",
    "import getpass\n",
    "import json\n",
    "import arcpy"
   ]
  },
  {
   "cell_type": "markdown",
   "metadata": {},
   "source": [
    "## Create Cloud Storage Connection File"
   ]
  },
  {
   "cell_type": "code",
   "execution_count": 17,
   "metadata": {},
   "outputs": [
    {
     "name": "stdout",
     "output_type": "stream",
     "text": [
      "accessKey: ········\n",
      "secretKey: ········\n"
     ]
    }
   ],
   "source": [
    "cloudstorename = \"s3raster\"\n",
    "provider = \"Amazon\"\n",
    "accesskey = getpass.getpass(\"accessKey: \")\n",
    "secrectkey = getpass.getpass(\"secretKey: \")\n",
    "bucket = \"devsummit2020\"\n",
    "connectfolder = r\"\\\\valyria\\Z__DevSummit2020\\Demo\\ManageRaster\"\n",
    "\n",
    "arcpy.management.CreateCloudStorageConnectionFile(\n",
    "    connectfolder, cloudstorename, service_provider=provider, bucket_name=bucket, access_key_id=accesskey, secret_access_key=secrectkey)\n",
    "\n",
    "acspath = os.path.join(connectfolder, cloudstorename + \".acs\")"
   ]
  },
  {
   "cell_type": "markdown",
   "metadata": {},
   "source": [
    "## Create Mosaic Dataset for Cloud Raster"
   ]
  },
  {
   "cell_type": "code",
   "execution_count": 1,
   "metadata": {},
   "outputs": [],
   "source": [
    "# Option 1: Create File Geodatabase\n",
    "demofolder = r\"\\\\valyria\\Z__DevSummit2020\\Demo\\ManageRaster\"\n",
    "mdgdb = \"mosaicdataset.gdb\"\n",
    "\n",
    "# Create mosaic dataset\n",
    "demows = os.path.join(demofolder, mdgdb)\n",
    "mdname = \"yosemite_landsat7\"\n",
    "sr = \"3857\"\n",
    "# sr = \"4326\" # This is the EPSG code for the projection Web Mercator\n",
    "\n",
    "arcpy.CreateMosaicDataset_management(demows, mdname, sr)\n",
    "\n",
    "mdpath = os.path.join(demows, mdname)"
   ]
  },
  {
   "cell_type": "markdown",
   "metadata": {},
   "source": [
    "## Add Cloud Raster data to Mosaic Dataset"
   ]
  },
  {
   "cell_type": "code",
   "execution_count": 3,
   "metadata": {},
   "outputs": [
    {
     "data": {
      "text/plain": [
       "<Result '\\\\\\\\valyria\\\\Z__DevSummit2020\\\\Demo\\\\ManageRaster\\\\mosaicdataset.gdb\\\\yosemite_landsat7'>"
      ]
     },
     "execution_count": 3,
     "metadata": {},
     "output_type": "execute_result"
    }
   ],
   "source": [
    "connectfolder = r\"\\\\valyria\\Z__DevSummit2020\\Demo\\ManageRaster\"\n",
    "cloudstorename = \"s3raster\"\n",
    "acspath = os.path.join(connectfolder, cloudstorename + \".acs\")\n",
    "\n",
    "# Landsat 7 ETM Raster for \n",
    "data = os.path.join(acspath, \"yosemite/Landsat7ETM\")\n",
    "rastertype = \"Landsat 7 ETM+\"\n",
    "# Note: auxillary input option allows configuration of raster type settings\n",
    "auxoption = \"ProcessingTemplate 'Multispectral'\"\n",
    "\n",
    "# Add data to mosaic dataset, can either add single dataset or the entire folder. \n",
    "arcpy.AddRastersToMosaicDataset_management(\n",
    "    mdpath, rastertype, data, aux_inputs=auxoption)"
   ]
  },
  {
   "cell_type": "markdown",
   "metadata": {},
   "source": [
    "## Register Cloud Store"
   ]
  },
  {
   "cell_type": "code",
   "execution_count": 7,
   "metadata": {},
   "outputs": [
    {
     "name": "stdout",
     "output_type": "stream",
     "text": [
      "Admin username: admin\n",
      "Admin password: ········\n"
     ]
    },
    {
     "name": "stderr",
     "output_type": "stream",
     "text": [
      "C:\\Program Files\\ArcGIS\\Pro\\bin\\Python\\envs\\arcgispro-py3\\lib\\site-packages\\urllib3\\connectionpool.py:1004: InsecureRequestWarning: Unverified HTTPS request is being made to host 'valyria.esri.com'. Adding certificate verification is strongly advised. See: https://urllib3.readthedocs.io/en/latest/advanced-usage.html#ssl-warnings\n",
      "  InsecureRequestWarning,\n"
     ]
    }
   ],
   "source": [
    "# Create portal token if Server is federated with ArcGIS Enterprise\n",
    "portal_sharing_url = \"https://valyria.esri.com/portal/sharing/rest\"\n",
    "\n",
    "# Use server admin URL if Server is a standalone ArcGIS Server\n",
    "server_url = \"https://valyria.esri.com/server\"\n",
    "server_admin_url = \"https://valyria.esri.com/server/admin\"\n",
    "\n",
    "username = input(\"Admin username: \")\n",
    "password = getpass.getpass(\"Admin password: \")\n",
    "\n",
    "\n",
    "# Generate publishing token (Federated Server)\n",
    "gentokenurl = portal_sharing_url + \"/generateToken\"\n",
    "params = {\"f\": \"json\", \"username\": username, \"password\": password, \"expiration\": \"20\", \"client\": \"referer\", \"referer\": server_url}\n",
    "\n",
    "r = requests.post(gentokenurl, data=params, verify=False)\n",
    "token = json.loads(r.text)[\"token\"]\n"
   ]
  },
  {
   "cell_type": "code",
   "execution_count": null,
   "metadata": {},
   "outputs": [],
   "source": [
    "# Register cloud store \n",
    "server_regdatastore = server_admin_url + \"/data/registerItem\"\n",
    "print(server_regdatastore)\n",
    "print(token)\n",
    "\n",
    "fileshare = {\n",
    "  \"path\": \"/cloudStores/s3raster\",\n",
    "  \"type\": \"cloudStore\",\n",
    "  \"provider\": \"amazon\",\n",
    "  \"info\": {\n",
    "    \"isManaged\": False,\n",
    "    \"connectionString\": \"{\\\"credentialType\\\":\\\"accesskey\\\",\\\"accessKeyId\\\":\\\"*************\\\",\\\"secretAccessKey\\\":\\\"*******************\\\",\\\"region\\\":\\\"us-east-1\\\",\\\"defaultEndpointsProtocol\\\":\\\"https\\\"}\",\n",
    "    \"objectStore\": \"devsummit2020\"\n",
    "  }\n",
    "}\n",
    "\n",
    "params = {\"f\": \"json\", \"token\": token, \"item\": json.dumps(fileshare), \"referer\": server_url}\n",
    "r = requests.post(server_regdatastore, data=params, verify=False)\n",
    "\n",
    "print(r.text)"
   ]
  },
  {
   "cell_type": "code",
   "execution_count": 8,
   "metadata": {},
   "outputs": [],
   "source": [
    "# Define image service configuration\n",
    "isdef = {\n",
    " \"serviceName\": \"demo_yosemite_landsat7\",\n",
    " \"type\": \"ImageServer\",\n",
    " \"description\": \"\",\n",
    " \"capabilities\": \"Image, Catalog, Metadata, Mensuration\",\n",
    " \"provider\": \"ArcObjects11\",\n",
    " \"clusterName\": \"default\",\n",
    " \"minInstancesPerNode\": 0,\n",
    " \"maxInstancesPerNode\": 2,\n",
    " \"instancesPerContainer\": 1,\n",
    " \"maxWaitTime\": 60,\n",
    " \"maxStartupTime\": 300,\n",
    " \"maxIdleTime\": 1800,\n",
    " \"maxUsageTime\": 600,\n",
    " \"loadBalancing\": \"ROUND_ROBIN\",\n",
    " \"isolationLevel\": \"HIGH\",\n",
    " \"configuredState\": \"STARTED\",\n",
    " \"recycleInterval\": 24,\n",
    " \"recycleStartTime\": \"00:00\",\n",
    " \"keepAliveInterval\": -1,\n",
    " \"private\": False,\n",
    " \"isDefault\": False,\n",
    " \"maxUploadFileSize\": 0,\n",
    " \"allowedUploadFileTypes\": \"\",\n",
    " \"properties\": {\n",
    "  \"path\": \"\\\\\\\\valyria\\\\Z__DevSummit2020\\\\Demo\\\\ManageRaster\\\\mosaicdataset.gdb\\\\yosemite_landsat7\",\n",
    "  \"cacheControlMaxAge\": \"43200\",\n",
    "  \"colormapToRGB\": \"false\",\n",
    "  \"defaultResamplingMethod\": \"1\",\n",
    " },\n",
    " \"extensions\": [],\n",
    " \"frameworkProperties\": {},\n",
    " \"datasets\": []\n",
    "}"
   ]
  },
  {
   "cell_type": "code",
   "execution_count": 9,
   "metadata": {},
   "outputs": [
    {
     "name": "stdout",
     "output_type": "stream",
     "text": [
      "https://valyria.esri.com/server/admin/services/createService\n",
      "snvIuLAPq7zoP_G3_pvobPFt_5KA1LS8OGPFsXe0FIXQjnyy2-lUsw_l-256dzMUh-r4mhqnmV-xzCHl3QmDk3CJ1cTp-xxdkLMh3cUnN3zVWyWBuvorpM8Jreb2LjX3A2Mz58DiwCxUutPSk2ni8QrW5XUkpgqguotR8XqyQm0.\n"
     ]
    },
    {
     "name": "stderr",
     "output_type": "stream",
     "text": [
      "C:\\Program Files\\ArcGIS\\Pro\\bin\\Python\\envs\\arcgispro-py3\\lib\\site-packages\\urllib3\\connectionpool.py:1004: InsecureRequestWarning: Unverified HTTPS request is being made to host 'valyria.esri.com'. Adding certificate verification is strongly advised. See: https://urllib3.readthedocs.io/en/latest/advanced-usage.html#ssl-warnings\n",
      "  InsecureRequestWarning,\n"
     ]
    },
    {
     "name": "stdout",
     "output_type": "stream",
     "text": [
      "{\"status\":\"success\"}\n"
     ]
    }
   ],
   "source": [
    "server_createservice = server_admin_url + \"/services/createService\"\n",
    "print(server_createservice)\n",
    "print(token)\n",
    "\n",
    "params = {\"f\": \"json\", \"token\": token, \"service\": json.dumps(isdef), \"referer\": server_url}\n",
    "r = requests.post(server_createservice, data=params, verify=False)\n",
    "\n",
    "print(r.text)"
   ]
  },
  {
   "cell_type": "markdown",
   "metadata": {},
   "source": [
    "## Another option: Convert Raster to Cloud Raster Format with Copy Raster tool"
   ]
  },
  {
   "cell_type": "code",
   "execution_count": null,
   "metadata": {},
   "outputs": [],
   "source": [
    "cloudraster = os.path.join(acspath, \"yosemite_landsat7.crf\")\n",
    "\n",
    "arcpy.management.CopyRaster(mdpath, cloudraster)"
   ]
  }
 ],
 "metadata": {
  "kernelspec": {
   "display_name": "ArcGISPro",
   "language": "Python",
   "name": "python3"
  },
  "language_info": {
   "file_extension": ".py",
   "name": "python",
   "version": "3"
  }
 },
 "nbformat": 4,
 "nbformat_minor": 2
}
