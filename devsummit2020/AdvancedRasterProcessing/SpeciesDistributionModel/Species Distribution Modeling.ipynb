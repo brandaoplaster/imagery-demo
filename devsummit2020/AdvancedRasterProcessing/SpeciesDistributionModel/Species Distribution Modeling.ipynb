{
 "cells": [
  {
   "cell_type": "code",
   "execution_count": 1,
   "metadata": {},
   "outputs": [
    {
     "data": {
      "text/plain": [
       "'CheckedOut'"
      ]
     },
     "execution_count": 1,
     "metadata": {},
     "output_type": "execute_result"
    }
   ],
   "source": [
    "import os\n",
    "import string\n",
    "import numpy as np\n",
    "import random\n",
    "import arcpy\n",
    "from sklearn import svm\n",
    "\n",
    "arcpy.CheckOutExtension(\"ImageAnalyst\")"
   ]
  },
  {
   "cell_type": "markdown",
   "metadata": {},
   "source": [
    "\n",
    "## Species Distribution Modeling\n",
    "\n",
    "-------  \n",
    "### Motivation:\n",
    "Species Distribution Modeling (SDM) is an important study area in conservation biology where conserving species and habitats depends in large part on knowing where they occur. In this example we model the geographical distribution of `\"Bradypus variegatus` in South America using the past observation locations and 14 environmental variables. \n",
    "The dataset is from Phillips et. al. (2006).\n",
    "\n",
    "\n",
    "-------  \n",
    "### Workflow :  \n",
    "- Sample (using arcpy)\n",
    "  - get the environmental variable values at the past observation locations\n",
    "- Train One-Class SVM classifer (using sklearn)\n",
    "- Create an empty output raster (using arcpy)\n",
    "- **Predict suitability values and Write into output raster** (using sklearn + arcpy)\n",
    "-------  \n",
    "> ![](img/species_workflow2.png)\n",
    "\n",
    "\n",
    "-------  \n",
    "### Output :  \n",
    "The probablity map, depicting areas where the species likely inhabite\n",
    "\n",
    "\n",
    "-------  "
   ]
  },
  {
   "cell_type": "markdown",
   "metadata": {},
   "source": [
    "## Data"
   ]
  },
  {
   "cell_type": "code",
   "execution_count": 26,
   "metadata": {},
   "outputs": [],
   "source": [
    "arcpy.env.workspace = r\"D:\\Z__DevSummit2020\\AdvanceRasterProcessingUsingPython\\SpeciesDistributionModel\\suitability_modeling\""
   ]
  },
  {
   "cell_type": "code",
   "execution_count": 11,
   "metadata": {},
   "outputs": [
    {
     "data": {
      "text/plain": [
       "['cld6190_ann.tif', 'dtr6190_ann.tif', 'ecoreg.tif', 'frs6190_ann.tif', 'h_dem.tif', 'pre6190_ann.tif', 'pre6190_l1.tif', 'pre6190_l10.tif', 'pre6190_l4.tif', 'pre6190_l7.tif', 'tmn6190_ann.tif', 'tmp6190_ann.tif', 'tmx6190_ann.tif', 'vap6190_ann.tif']"
      ]
     },
     "execution_count": 11,
     "metadata": {},
     "output_type": "execute_result"
    }
   ],
   "source": [
    "# 14 environment variables\n",
    "env_variables = arcpy.ListRasters(\"*\", \"TIF\")\n",
    "env_variables.sort()\n",
    "env_variables"
   ]
  },
  {
   "cell_type": "code",
   "execution_count": 8,
   "metadata": {},
   "outputs": [],
   "source": [
    "# previous observation locations\n",
    "presences_points = r\"D:\\Z__DevSummit2020\\AdvanceRasterProcessingUsingPython\\SpeciesDistributionModel\\suitability_modeling\\bradypus_variegatus_presence_points.shp\""
   ]
  },
  {
   "cell_type": "markdown",
   "metadata": {},
   "source": [
    "## Method"
   ]
  },
  {
   "cell_type": "markdown",
   "metadata": {},
   "source": [
    "### 1. Sample\n",
    "Extract variable values at past observed locations using arcpy.ia.Sample"
   ]
  },
  {
   "cell_type": "code",
   "execution_count": 13,
   "metadata": {},
   "outputs": [],
   "source": [
    "def extract_variables_values(presence_points, env_variables):\n",
    "    # a. generate random name for the output table from Sample\n",
    "    rand_table_name = ''.join(random.choice(string.ascii_letters + string.digits) for _ in range(6))\n",
    "    tmp_table = os.path.join(arcpy.env.workspace, \"tmp_\" + rand_table_name + \".dbf\")\n",
    "    \n",
    "    # b. run Sample gp tool\n",
    "    arcpy.ia.Sample(env_variables, presence_points, tmp_table, \"NEAREST\", \"FID\", \"CURRENT_SLICE\", None, '', None, None, \"ROW_WISE\")\n",
    "    \n",
    "    # c. get values from the output table\n",
    "    res = []\n",
    "    with arcpy.da.SearchCursor(tmp_table, \"*\") as cursor:\n",
    "        for row in cursor:\n",
    "            res.append([int(str(val)) for val in row[-len(env_variables):]])\n",
    "    \n",
    "    # d. delete tmp table\n",
    "    arcpy.Delete_management(tmp_table)\n",
    "\n",
    "    return np.array(res)"
   ]
  },
  {
   "cell_type": "code",
   "execution_count": 14,
   "metadata": {},
   "outputs": [],
   "source": [
    "features = extract_variables_values(presences_points, env_variables)"
   ]
  },
  {
   "cell_type": "markdown",
   "metadata": {},
   "source": [
    "### 2. Train One Class SVM Model"
   ]
  },
  {
   "cell_type": "code",
   "execution_count": 15,
   "metadata": {},
   "outputs": [],
   "source": [
    "# split features into training and testing \n",
    "test_fold = 0.3 # 30% for testing, 70% for training\n",
    "testing_records = int(test_fold * features.shape[0])\n",
    "np.random.shuffle(features)\n",
    "testing_features, training_features = features[:testing_records,:], features[testing_records:,:]"
   ]
  },
  {
   "cell_type": "code",
   "execution_count": 16,
   "metadata": {},
   "outputs": [],
   "source": [
    "# Standardize feature values\n",
    "mean = training_features.mean(axis=0)\n",
    "std = training_features.std(axis=0)\n",
    "standardized_training_features = (training_features - mean) / std"
   ]
  },
  {
   "cell_type": "code",
   "execution_count": 17,
   "metadata": {},
   "outputs": [
    {
     "data": {
      "text/plain": [
       "OneClassSVM(cache_size=200, coef0=0.0, degree=3, gamma=0.5, kernel='rbf',\n",
       "            max_iter=-1, nu=0.1, shrinking=True, tol=0.001, verbose=False)"
      ]
     },
     "execution_count": 17,
     "metadata": {},
     "output_type": "execute_result"
    }
   ],
   "source": [
    "# Fit OneClassSVM with Radial Basis Function kernel (rbf)\n",
    "clf = svm.OneClassSVM(nu=0.1, kernel=\"rbf\", gamma=0.5)\n",
    "clf.fit(standardized_training_features)"
   ]
  },
  {
   "cell_type": "markdown",
   "metadata": {},
   "source": [
    "### 3.Create empty output raster"
   ]
  },
  {
   "cell_type": "markdown",
   "metadata": {},
   "source": [
    "#### create output raster"
   ]
  },
  {
   "cell_type": "code",
   "execution_count": 19,
   "metadata": {},
   "outputs": [],
   "source": [
    "# set the output raster info based on input raster\n",
    "in_raster = arcpy.Raster(os.path.join(arcpy.env.workspace, env_variables[0]))\n",
    "raster_info = {\n",
    "    'bandCount':1,\n",
    "    'cellSize':(in_raster.meanCellWidth, in_raster.meanCellHeight),\n",
    "    'extent':in_raster.extent,\n",
    "    'spatialReference':in_raster.spatialReference,\n",
    "    'pixelType':'F32',\n",
    "}\n",
    "# use Constant Raster Funtion \n",
    "out_raster = arcpy.ia.Apply(0, 'Constant', {'RasterInfo':raster_info})"
   ]
  },
  {
   "cell_type": "markdown",
   "metadata": {},
   "source": [
    "#### Save output raster on disk"
   ]
  },
  {
   "cell_type": "code",
   "execution_count": 20,
   "metadata": {},
   "outputs": [],
   "source": [
    "out_raster.save(arcpy.env.workspace+\"\\\\output\\\\species_distribution_modeling.tif\")\n",
    "out_raster.readOnly = False\n",
    "out_raster.noDataValues = 0"
   ]
  },
  {
   "cell_type": "markdown",
   "metadata": {},
   "source": [
    "### 4. Predict Species Distribution + Write into Output Raster\n",
    "using PixelBlockCollection to iterate each pixelblock. For each Pixel Block \n",
    "  * get numpy array\n",
    "  * evaluate decision function\n",
    "  * write into output raster"
   ]
  },
  {
   "cell_type": "code",
   "execution_count": 58,
   "metadata": {},
   "outputs": [],
   "source": [
    "# create a pixel block collection object \n",
    "# to iterate each pixel block in input raster\n",
    "pixelblock_size = (512, 512)\n",
    "nodata_value = -128\n",
    "pixel_block_collection = arcpy.ia.PixelBlockCollection([arcpy.Raster(var_raster) for var_raster in env_variables], \n",
    "                                                        pixel_block_size = pixelblock_size, \n",
    "                                                        nodata_to_values = nodata_value)"
   ]
  },
  {
   "cell_type": "code",
   "execution_count": 22,
   "metadata": {},
   "outputs": [],
   "source": [
    "# iterate each pixel block\n",
    "for pixel_blocks in pixel_block_collection:\n",
    "    # 1. get numpy array from the block\n",
    "    numpy_arrays = np.array([pixel_block.getData()[:, :, 0] for pixel_block in pixel_blocks])\n",
    "\n",
    "    # 2. create output block\n",
    "    out_block = np.zeros((numpy_arrays[0].shape[0], numpy_arrays[0].shape[1], 1), dtype=np.float64)\n",
    "\n",
    "    # 3. predict only for the land points.\n",
    "    idx = np.where(numpy_arrays[2] != nodata_value)\n",
    "    if len(idx[0]) > 0:\n",
    "        var_values_land_only = numpy_arrays[:, idx[0], idx[1]].T\n",
    "        # get the probablity for each pixel\n",
    "        prob = clf.decision_function((var_values_land_only- mean) / std)\n",
    "        out_block[idx[0], idx[1], 0] = prob\n",
    "    \n",
    "    # 4. write the prediction result into the output raster\n",
    "    out_raster.write(array = out_block, origin_coordinate = pixel_blocks[0].tlc)"
   ]
  },
  {
   "cell_type": "code",
   "execution_count": 23,
   "metadata": {},
   "outputs": [
    {
     "name": "stdout",
     "output_type": "stream",
     "text": [
      "Done\n"
     ]
    }
   ],
   "source": [
    "# calculate statistics\n",
    "arcpy.management.CalculateStatistics(out_raster, 1, 1, [], \"OVERWRITE\")\n",
    "print(\"Done\")"
   ]
  },
  {
   "cell_type": "markdown",
   "metadata": {},
   "source": [
    "### 5. Visualize"
   ]
  },
  {
   "cell_type": "code",
   "execution_count": 24,
   "metadata": {},
   "outputs": [
    {
     "data": {
      "image/png": "[encoded data removed]"
     },
     "execution_count": 24,
     "metadata": {},
     "output_type": "execute_result"
    }
   ],
   "source": [
    "rendered_raster = arcpy.ia.Render(out_raster, rendering_rule = {\"min\": -1, \"max\": 1}, colormap = \"Errors\")\n",
    "rendered_raster.exportImage(height = 400)"
   ]
  },
  {
   "cell_type": "markdown",
   "metadata": {},
   "source": [
    "## Cited\n",
    "1. Phillips, S.J., et al. 2006. Maximum entropy modeling of species geographic distributions.Ecological Modelling.190:231-259"
   ]
  }
 ],
 "metadata": {
  "kernelspec": {
   "display_name": "ArcGISPro",
   "language": "Python",
   "name": "python3"
  },
  "language_info": {
   "file_extension": ".py",
   "name": "python",
   "version": "3"
  }
 },
 "nbformat": 4,
 "nbformat_minor": 2
}
